{
 "cells": [
  {
   "cell_type": "markdown",
   "metadata": {},
   "source": [
    "Task1:Hypothesis test whether raw starch had an effect or not in obese patients"
   ]
  },
  {
   "cell_type": "code",
   "execution_count": 5,
   "metadata": {},
   "outputs": [
    {
     "name": "stdout",
     "output_type": "stream",
     "text": [
      "Probability to have less than 108: 0.9993\n",
      "Probability to have >= 108 : 0.0007000000000000339\n"
     ]
    }
   ],
   "source": [
    "import numpy as np\n",
    "X=108\n",
    "u=100\n",
    "sd=15\n",
    "n=36\n",
    "H1=(X-u)/(sd/np.sqrt(n))\n",
    "ZH1=0.9993\n",
    "NZH1=1-ZH1\n",
    "print('Probability to have less than 108:',ZH1)\n",
    "print('Probability to have >= 108 :',NZH1)"
   ]
  },
  {
   "cell_type": "markdown",
   "metadata": {},
   "source": [
    "Task2:FIND the probability that Republican voters are more in second state than in first state"
   ]
  },
  {
   "cell_type": "code",
   "execution_count": 13,
   "metadata": {},
   "outputs": [
    {
     "name": "stdout",
     "output_type": "stream",
     "text": [
      "Probability Republicans in second state will have grater % is: -0.7080278164104207\n",
      "Corresponding Z score for the above probability is: 24.0\n"
     ]
    }
   ],
   "source": [
    "#Mean of Republicans for the first sample\n",
    "n1=100\n",
    "R1=0.52\n",
    "MR1=n1*R1\n",
    "#Mean of Democrats for the first sample\n",
    "D1=0.48\n",
    "MD1=n1*D1\n",
    "#Mean of Republicans in second sample\n",
    "n2=100\n",
    "R2=0.47\n",
    "MR2=n2*R2\n",
    "#Mean of Democrats in second sample\n",
    "D2=0.53\n",
    "MD2=n2*D2\n",
    "#Difference in sample\n",
    "u=MR1-MR2\n",
    "#Difference in Standard Deviation\n",
    "sd=np.sqrt((MR1*MD1)/n1+(MR2*MD2)/n2)\n",
    "#Probability that Republicans in second state will have greater % than in first state\n",
    "x=0\n",
    "H1=x-u/sd\n",
    "#Find Corresponding Z score for above ZH1 value \n",
    "ZH1=0.24\n",
    "print('Probability Republicans in second state will have grater % is:',H1)\n",
    "print('Corresponding Z score for the above probability is:',ZH1*100)"
   ]
  },
  {
   "cell_type": "markdown",
   "metadata": {},
   "source": [
    "Task3:How well the score is better than average test taker"
   ]
  },
  {
   "cell_type": "code",
   "execution_count": 12,
   "metadata": {},
   "outputs": [
    {
     "name": "stdout",
     "output_type": "stream",
     "text": [
      "Probability that test takers scored above you is: 36.31999999999999\n"
     ]
    }
   ],
   "source": [
    "X=1100\n",
    "u=1026\n",
    "sd=209\n",
    "Sc=(X-u)/sd\n",
    "#Corresponding Z value for above Sc\n",
    "Zval=0.6368  #This is the probability that that test takers scored below 1100\n",
    "ZH1=1-Zval   #This is the probability that test takers scored above 1100\n",
    "print('Probability that test takers scored above you is:',ZH1*100)"
   ]
  },
  {
   "cell_type": "code",
   "execution_count": null,
   "metadata": {},
   "outputs": [],
   "source": [
    "Task2:1"
   ]
  },
  {
   "cell_type": "code",
   "execution_count": 70,
   "metadata": {},
   "outputs": [
    {
     "data": {
      "text/html": [
       "<div>\n",
       "<style scoped>\n",
       "    .dataframe tbody tr th:only-of-type {\n",
       "        vertical-align: middle;\n",
       "    }\n",
       "\n",
       "    .dataframe tbody tr th {\n",
       "        vertical-align: top;\n",
       "    }\n",
       "\n",
       "    .dataframe thead th {\n",
       "        text-align: right;\n",
       "    }\n",
       "</style>\n",
       "<table border=\"1\" class=\"dataframe\">\n",
       "  <thead>\n",
       "    <tr style=\"text-align: right;\">\n",
       "      <th></th>\n",
       "      <th>HighScool</th>\n",
       "      <th>Bachelors</th>\n",
       "      <th>Masters</th>\n",
       "      <th>Phd</th>\n",
       "      <th>Totalr</th>\n",
       "    </tr>\n",
       "  </thead>\n",
       "  <tbody>\n",
       "    <tr>\n",
       "      <th>Female</th>\n",
       "      <td>60</td>\n",
       "      <td>54</td>\n",
       "      <td>46</td>\n",
       "      <td>41</td>\n",
       "      <td>201</td>\n",
       "    </tr>\n",
       "    <tr>\n",
       "      <th>Male</th>\n",
       "      <td>40</td>\n",
       "      <td>44</td>\n",
       "      <td>53</td>\n",
       "      <td>57</td>\n",
       "      <td>194</td>\n",
       "    </tr>\n",
       "    <tr>\n",
       "      <th>Total</th>\n",
       "      <td>100</td>\n",
       "      <td>98</td>\n",
       "      <td>99</td>\n",
       "      <td>98</td>\n",
       "      <td>395</td>\n",
       "    </tr>\n",
       "  </tbody>\n",
       "</table>\n",
       "</div>"
      ],
      "text/plain": [
       "        HighScool  Bachelors  Masters  Phd  Totalr\n",
       "Female         60         54       46   41     201\n",
       "Male           40         44       53   57     194\n",
       "Total         100         98       99   98     395"
      ]
     },
     "execution_count": 70,
     "metadata": {},
     "output_type": "execute_result"
    }
   ],
   "source": [
    "import pandas as pd\n",
    "import numpy as np\n",
    "df=pd.DataFrame(np.array([[60,54,46,41,201],[40,44,53,57,194],[100,98,99,98,395]]),index=['Female','Male','Total'],columns=['HighScool','Bachelors','Masters','Phd','Totalr'])\n",
    "df"
   ]
  },
  {
   "cell_type": "code",
   "execution_count": 81,
   "metadata": {},
   "outputs": [
    {
     "name": "stdout",
     "output_type": "stream",
     "text": [
      "Null Hypothesis can be rejected as crictical value is less than chi square value and difference is: 0.19106624626253765\n"
     ]
    }
   ],
   "source": [
    "mylist=[]\n",
    "for j in range(len(df['Totalr'])-1):\n",
    "    for i in range(len(df.loc['Total'])-1):\n",
    "        mylist.append(df.loc['Total'][i]*df['Totalr'][j])\n",
    "mylist=mylist/df['Totalr']['Total']\n",
    "df_exp=pd.DataFrame(np.array(mylist).reshape(2,4),index=['Female','Male'],columns=['HighScool','Bachelors','Masters','Phd'])\n",
    "mylist1=[]\n",
    "sum=0\n",
    "for i in range(0,2):\n",
    "    for j in range(0,4):\n",
    "        sum+=(df.iloc[i][j]-df_exp.iloc[i][j])**2/df_exp.iloc[i][j]\n",
    "X2=sum\n",
    "X2_3=7.815\n",
    "final_val=X2-X2_3\n",
    "print('Null Hypothesis can be rejected as crictical value is less than chi square value and difference is:',final_val)"
   ]
  },
  {
   "cell_type": "markdown",
   "metadata": {},
   "source": [
    "Task2:2 APA Format with alpha=0.05"
   ]
  },
  {
   "cell_type": "code",
   "execution_count": 21,
   "metadata": {
    "scrolled": true
   },
   "outputs": [
    {
     "name": "stdout",
     "output_type": "stream",
     "text": [
      "153.2\n",
      "128.8\n",
      "51.133333333333326\n",
      "F value 9.747205503009457 is more than critical value(3.89) and hence Null Hypothesis can be rejected \n",
      "N2 value is :0.61898001528885\n"
     ]
    }
   ],
   "source": [
    "x1=[51,45,33,45,67]\n",
    "x2=[23,43,23,43,45]\n",
    "x3=[56,76,74,87,56]\n",
    "meanx1=sum(x1)/len(x1)\n",
    "meanx2=sum(x2)/len(x2)\n",
    "meanx3=sum(x3)/len(x3)\n",
    "sdx1=0\n",
    "sdx2=0\n",
    "sdx3=0\n",
    "for i in x1:\n",
    "    sdx1+=(i-meanx1)**2\n",
    "varx1=sdx1/(len(x1)-1)\n",
    "print(varx1)\n",
    "for i in x2:\n",
    "    sdx2+=(i-meanx2)**2\n",
    "varx2=sdx2/(len(x2)-1)\n",
    "print(varx2)\n",
    "for i in x3:\n",
    "    sdx3+=(i-meanx3)**2\n",
    "varx3=sdx3/(len(x3)-1)\n",
    "MSerr=(varx1+varx2+varx3)/3\n",
    "SSerr=MSerr*(3*len(x1)-3)\n",
    "GMean=(meanx1+meanx2+meanx3)/3\n",
    "print(GMean)\n",
    "MSbet=(((meanx1-GMean)**2+(meanx2-GMean)**2+(meanx3-GMean)**2)/2)*5\n",
    "SSGrp=MSbet*2\n",
    "F=MSbet/MSerr\n",
    "print(f'F value {F} is more than critical value(3.89) and hence Null Hypothesis can be rejected ')\n",
    "print(f'N2 value is :{SSGrp/(SSGrp+SSerr)}')"
   ]
  },
  {
   "cell_type": "markdown",
   "metadata": {},
   "source": [
    "Task2:3 calculate the F test"
   ]
  },
  {
   "cell_type": "code",
   "execution_count": 5,
   "metadata": {},
   "outputs": [
    {
     "name": "stdout",
     "output_type": "stream",
     "text": [
      "Mean of Group1:30.0\n",
      "Mean of Group2:15.0\n",
      "Variance of Group1:250.0\n",
      "Variance of Group2:62.5\n",
      "F test value is :4.0\n"
     ]
    }
   ],
   "source": [
    "import numpy as np\n",
    "x=[10,20,30,40,50]\n",
    "y=[5,10,15,20,25]\n",
    "xsum=0\n",
    "ysum=0\n",
    "xsum1=0\n",
    "ysum1=0\n",
    "ux=sum(x)/len(x)\n",
    "print(f'Mean of Group1:{ux}')\n",
    "uy=sum(y)/len(y)\n",
    "print(f'Mean of Group2:{uy}')\n",
    "for i in x:\n",
    "    xsum1+=(i-ux)**2\n",
    "fx=(np.sqrt(xsum1/(len(x)-1)))**2\n",
    "print(f'Variance of Group1:{fx}')\n",
    "\n",
    "for i in y:\n",
    "    ysum1+=(i-uy)**2\n",
    "fy=(np.sqrt(ysum1/(len(y)-1)))**2\n",
    "print(f'Variance of Group2:{fy}')\n",
    "print(f'F test value is :{fx/fy}')\n"
   ]
  },
  {
   "cell_type": "code",
   "execution_count": null,
   "metadata": {},
   "outputs": [],
   "source": []
  }
 ],
 "metadata": {
  "kernelspec": {
   "display_name": "Python 3",
   "language": "python",
   "name": "python3"
  },
  "language_info": {
   "codemirror_mode": {
    "name": "ipython",
    "version": 3
   },
   "file_extension": ".py",
   "mimetype": "text/x-python",
   "name": "python",
   "nbconvert_exporter": "python",
   "pygments_lexer": "ipython3",
   "version": "3.6.4"
  }
 },
 "nbformat": 4,
 "nbformat_minor": 2
}
